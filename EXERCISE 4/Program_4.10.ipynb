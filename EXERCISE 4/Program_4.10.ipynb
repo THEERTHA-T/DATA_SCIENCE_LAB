{
 "cells": [
  {
   "cell_type": "code",
   "execution_count": 16,
   "id": "3444ae26",
   "metadata": {},
   "outputs": [
    {
     "name": "stdout",
     "output_type": "stream",
     "text": [
      "   Rollno    Name  Mark\n",
      "0       2     Anu  49.0\n",
      "1       4  Devika   NaN\n",
      "2       8    Manu   NaN\n",
      "3      10    Sona  50.0\n",
      "\n",
      "After Modification :: \n",
      "\n",
      "   Rollno    Name  Mark\n",
      "0       2     Anu  49.0\n",
      "1       4  Devika   0.0\n",
      "2       8    Manu   0.0\n",
      "3      10    Sona  50.0\n"
     ]
    }
   ],
   "source": [
    "#Program 4.10\n",
    "\n",
    "import pandas as pd\n",
    "df1=[[2,'Anu',49],[4,'Devika'],[8,'Manu'],[10,'Sona',50]]\n",
    "df2=pd.DataFrame(df1,columns=['Rollno','Name','Mark'])\n",
    "print(df2)\n",
    "print(\"\\nAfter Modification :: \\n\")\n",
    "df3=df2.fillna(0)\n",
    "print(df3)"
   ]
  },
  {
   "cell_type": "code",
   "execution_count": null,
   "id": "c3dff64a",
   "metadata": {},
   "outputs": [],
   "source": []
  }
 ],
 "metadata": {
  "kernelspec": {
   "display_name": "Python 3 (ipykernel)",
   "language": "python",
   "name": "python3"
  },
  "language_info": {
   "codemirror_mode": {
    "name": "ipython",
    "version": 3
   },
   "file_extension": ".py",
   "mimetype": "text/x-python",
   "name": "python",
   "nbconvert_exporter": "python",
   "pygments_lexer": "ipython3",
   "version": "3.7.11"
  }
 },
 "nbformat": 4,
 "nbformat_minor": 5
}
