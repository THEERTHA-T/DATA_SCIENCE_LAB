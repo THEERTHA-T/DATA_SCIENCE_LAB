{
 "cells": [
  {
   "cell_type": "code",
   "execution_count": null,
   "id": "a9875329",
   "metadata": {},
   "outputs": [],
   "source": [
    "# Program  4.8\n",
    "\n",
    "import pandas as pd\n",
    "df1=pd.read_csv(\"Program_4.8.csv\")\n",
    "print(df1) \n",
    "print()\n",
    "df2 = df1.head(2)\n",
    "print(df2)"
   ]
  }
 ],
 "metadata": {
  "kernelspec": {
   "display_name": "Python 3 (ipykernel)",
   "language": "python",
   "name": "python3"
  },
  "language_info": {
   "codemirror_mode": {
    "name": "ipython",
    "version": 3
   },
   "file_extension": ".py",
   "mimetype": "text/x-python",
   "name": "python",
   "nbconvert_exporter": "python",
   "pygments_lexer": "ipython3",
   "version": "3.7.11"
  }
 },
 "nbformat": 4,
 "nbformat_minor": 5
}
