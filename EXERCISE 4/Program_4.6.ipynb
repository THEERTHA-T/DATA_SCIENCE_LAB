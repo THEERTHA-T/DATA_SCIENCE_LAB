{
 "cells": [
  {
   "cell_type": "code",
   "execution_count": null,
   "id": "7a6ebd08",
   "metadata": {},
   "outputs": [],
   "source": [
    "# Program 4.6\n",
    "\n",
    "import pandas as pd\n",
    "df1=pd.read_csv(\"Program_4.6.csv\")\n",
    "print(\"Before Sorting \\n\")\n",
    "print(df1)\n",
    "\n",
    "print()\n",
    "df2 = df1.sort_values(by = ['rollno']) \n",
    "print(\"After Sorting \\n\")\n",
    "print(df2)"
   ]
  }
 ],
 "metadata": {
  "kernelspec": {
   "display_name": "Python 3 (ipykernel)",
   "language": "python",
   "name": "python3"
  },
  "language_info": {
   "codemirror_mode": {
    "name": "ipython",
    "version": 3
   },
   "file_extension": ".py",
   "mimetype": "text/x-python",
   "name": "python",
   "nbconvert_exporter": "python",
   "pygments_lexer": "ipython3",
   "version": "3.7.11"
  }
 },
 "nbformat": 4,
 "nbformat_minor": 5
}
