{
 "cells": [
  {
   "cell_type": "code",
   "execution_count": 1,
   "id": "e6303f12",
   "metadata": {},
   "outputs": [
    {
     "name": "stdout",
     "output_type": "stream",
     "text": [
      "LIST\n",
      "------\n",
      "['Apple', 'Mango', 'Banana', 'Grapes', 'Orange']\n",
      "\n",
      "SERIES\n",
      "------\n",
      "0     Apple\n",
      "1     Mango\n",
      "2    Banana\n",
      "3    Grapes\n",
      "4    Orange\n",
      "dtype: object\n"
     ]
    }
   ],
   "source": [
    "# Program 4.1\n",
    "\n",
    "import pandas as pd\n",
    "list1=['Apple','Mango','Banana','Grapes','Orange']\n",
    "series1=pd.Series(list1)\n",
    "print(\"LIST\\n------\")\n",
    "print(list1)\n",
    "print(\"\\nSERIES\\n------\")\n",
    "print(series1)"
   ]
  },
  {
   "cell_type": "code",
   "execution_count": null,
   "id": "2ffe11fa",
   "metadata": {},
   "outputs": [],
   "source": []
  },
  {
   "cell_type": "code",
   "execution_count": null,
   "id": "97c10437",
   "metadata": {},
   "outputs": [],
   "source": []
  }
 ],
 "metadata": {
  "kernelspec": {
   "display_name": "Python 3 (ipykernel)",
   "language": "python",
   "name": "python3"
  },
  "language_info": {
   "codemirror_mode": {
    "name": "ipython",
    "version": 3
   },
   "file_extension": ".py",
   "mimetype": "text/x-python",
   "name": "python",
   "nbconvert_exporter": "python",
   "pygments_lexer": "ipython3",
   "version": "3.7.11"
  }
 },
 "nbformat": 4,
 "nbformat_minor": 5
}
